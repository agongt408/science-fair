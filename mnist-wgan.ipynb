{
 "cells": [
  {
   "cell_type": "markdown",
   "metadata": {},
   "source": [
    "# MNIST WGAN with Gradient Regularization"
   ]
  },
  {
   "cell_type": "markdown",
   "metadata": {},
   "source": [
    "https://www.easy-tensorflow.com/tf-tutorials/basics/save-and-restore"
   ]
  },
  {
   "cell_type": "code",
   "execution_count": 1,
   "metadata": {},
   "outputs": [],
   "source": [
    "import matplotlib.pyplot as plt\n",
    "import sys\n",
    "import os"
   ]
  },
  {
   "cell_type": "code",
   "execution_count": 2,
   "metadata": {},
   "outputs": [
    {
     "name": "stderr",
     "output_type": "stream",
     "text": [
      "Using TensorFlow backend.\n"
     ]
    }
   ],
   "source": [
    "sys.path.insert(0, \"src\")\n",
    "import models"
   ]
  },
  {
   "cell_type": "code",
   "execution_count": 3,
   "metadata": {},
   "outputs": [],
   "source": [
    "import numpy as np\n",
    "np.random.seed(100)"
   ]
  },
  {
   "cell_type": "code",
   "execution_count": 4,
   "metadata": {},
   "outputs": [],
   "source": [
    "import tensorflow as tf\n",
    "tf.set_random_seed(100)"
   ]
  },
  {
   "cell_type": "code",
   "execution_count": 5,
   "metadata": {},
   "outputs": [],
   "source": [
    "from keras.utils import Progbar"
   ]
  },
  {
   "cell_type": "markdown",
   "metadata": {},
   "source": [
    "## Load Data"
   ]
  },
  {
   "cell_type": "code",
   "execution_count": 6,
   "metadata": {},
   "outputs": [],
   "source": [
    "from keras.datasets import mnist"
   ]
  },
  {
   "cell_type": "code",
   "execution_count": 7,
   "metadata": {},
   "outputs": [],
   "source": [
    "(X_train, y_train), (X_test, y_test) = mnist.load_data()"
   ]
  },
  {
   "cell_type": "code",
   "execution_count": 8,
   "metadata": {},
   "outputs": [],
   "source": [
    "def batch_generator(X, labels, batch_size=64):\n",
    "    while True:\n",
    "        choice = np.random.choice(len(X), batch_size, replace=False)\n",
    "        X_batch = X[choice][..., np.newaxis]\n",
    "        X_batch = X_batch / 127.5 - 1.\n",
    "        y_batch = labels[choice][:, np.newaxis]\n",
    "        yield X_batch, y_batch"
   ]
  },
  {
   "cell_type": "code",
   "execution_count": 9,
   "metadata": {},
   "outputs": [],
   "source": [
    "test_batch, test_labels = next(batch_generator(X_train, y_train))"
   ]
  },
  {
   "cell_type": "code",
   "execution_count": 10,
   "metadata": {},
   "outputs": [],
   "source": [
    "def plot_batch(batch):\n",
    "    for i, img in enumerate(batch):\n",
    "        plt.subplot(1, len(batch), i + 1)\n",
    "        plt.imshow(0.5 * (img.squeeze() + 1.), cmap=plt.cm.gray)\n",
    "        plt.axis(\"off\")\n",
    "    plt.show()"
   ]
  },
  {
   "cell_type": "code",
   "execution_count": 11,
   "metadata": {},
   "outputs": [
    {
     "data": {
      "image/png": "[encoded data removed]",
      "text/plain": [
       "<Figure size 432x288 with 10 Axes>"
      ]
     },
     "metadata": {
      "needs_background": "light"
     },
     "output_type": "display_data"
    }
   ],
   "source": [
    "plot_batch(test_batch[:10])"
   ]
  },
  {
   "cell_type": "code",
   "execution_count": 12,
   "metadata": {},
   "outputs": [
    {
     "data": {
      "text/plain": [
       "(64, 28, 28, 1)"
      ]
     },
     "execution_count": 12,
     "metadata": {},
     "output_type": "execute_result"
    }
   ],
   "source": [
    "test_batch.shape"
   ]
  },
  {
   "cell_type": "markdown",
   "metadata": {},
   "source": [
    "## Build Models"
   ]
  },
  {
   "cell_type": "code",
   "execution_count": 13,
   "metadata": {},
   "outputs": [],
   "source": [
    "img_shape = (28,28,1)\n",
    "latent_dim = 100\n",
    "nb_blocks = 2\n",
    "nb_filters = 64\n",
    "lambda_reg = 10"
   ]
  },
  {
   "cell_type": "code",
   "execution_count": 14,
   "metadata": {},
   "outputs": [],
   "source": [
    "with tf.variable_scope(\"discriminator\"):\n",
    "    D = models.DC_discriminator(img_shape, nb_blocks+2, nb_filters)"
   ]
  },
  {
   "cell_type": "code",
   "execution_count": 15,
   "metadata": {},
   "outputs": [
    {
     "name": "stdout",
     "output_type": "stream",
     "text": [
      "_________________________________________________________________\n",
      "Layer (type)                 Output Shape              Param #   \n",
      "=================================================================\n",
      "input_1 (InputLayer)         (None, 28, 28, 1)         0         \n",
      "_________________________________________________________________\n",
      "conv2d_1 (Conv2D)            (None, 28, 28, 64)        640       \n",
      "_________________________________________________________________\n",
      "leaky_re_lu_1 (LeakyReLU)    (None, 28, 28, 64)        0         \n",
      "_________________________________________________________________\n",
      "max_pooling2d_1 (MaxPooling2 (None, 14, 14, 64)        0         \n",
      "_________________________________________________________________\n",
      "conv2d_2 (Conv2D)            (None, 14, 14, 128)       73856     \n",
      "_________________________________________________________________\n",
      "leaky_re_lu_2 (LeakyReLU)    (None, 14, 14, 128)       0         \n",
      "_________________________________________________________________\n",
      "max_pooling2d_2 (MaxPooling2 (None, 7, 7, 128)         0         \n",
      "_________________________________________________________________\n",
      "conv2d_3 (Conv2D)            (None, 7, 7, 256)         295168    \n",
      "_________________________________________________________________\n",
      "leaky_re_lu_3 (LeakyReLU)    (None, 7, 7, 256)         0         \n",
      "_________________________________________________________________\n",
      "max_pooling2d_3 (MaxPooling2 (None, 3, 3, 256)         0         \n",
      "_________________________________________________________________\n",
      "conv2d_4 (Conv2D)            (None, 3, 3, 512)         1180160   \n",
      "_________________________________________________________________\n",
      "leaky_re_lu_4 (LeakyReLU)    (None, 3, 3, 512)         0         \n",
      "_________________________________________________________________\n",
      "max_pooling2d_4 (MaxPooling2 (None, 1, 1, 512)         0         \n",
      "_________________________________________________________________\n",
      "flatten_1 (Flatten)          (None, 512)               0         \n",
      "_________________________________________________________________\n",
      "dense_1 (Dense)              (None, 1)                 513       \n",
      "_________________________________________________________________\n",
      "activation_1 (Activation)    (None, 1)                 0         \n",
      "=================================================================\n",
      "Total params: 1,550,337\n",
      "Trainable params: 1,550,337\n",
      "Non-trainable params: 0\n",
      "_________________________________________________________________\n"
     ]
    }
   ],
   "source": [
    "D.summary()"
   ]
  },
  {
   "cell_type": "code",
   "execution_count": 16,
   "metadata": {},
   "outputs": [],
   "source": [
    "with tf.variable_scope(\"generator\"):\n",
    "    G = models.DC_generator(img_shape, latent_dim, nb_blocks, nb_filters)"
   ]
  },
  {
   "cell_type": "code",
   "execution_count": 17,
   "metadata": {
    "scrolled": false
   },
   "outputs": [
    {
     "name": "stdout",
     "output_type": "stream",
     "text": [
      "_________________________________________________________________\n",
      "Layer (type)                 Output Shape              Param #   \n",
      "=================================================================\n",
      "input_2 (InputLayer)         (None, 100)               0         \n",
      "_________________________________________________________________\n",
      "dense_2 (Dense)              (None, 6272)              633472    \n",
      "_________________________________________________________________\n",
      "activation_2 (Activation)    (None, 6272)              0         \n",
      "_________________________________________________________________\n",
      "reshape_1 (Reshape)          (None, 7, 7, 128)         0         \n",
      "_________________________________________________________________\n",
      "up_sampling2d_1 (UpSampling2 (None, 14, 14, 128)       0         \n",
      "_________________________________________________________________\n",
      "conv2d_5 (Conv2D)            (None, 14, 14, 128)       409728    \n",
      "_________________________________________________________________\n",
      "activation_3 (Activation)    (None, 14, 14, 128)       0         \n",
      "_________________________________________________________________\n",
      "up_sampling2d_2 (UpSampling2 (None, 28, 28, 128)       0         \n",
      "_________________________________________________________________\n",
      "conv2d_6 (Conv2D)            (None, 28, 28, 64)        204864    \n",
      "_________________________________________________________________\n",
      "activation_4 (Activation)    (None, 28, 28, 64)        0         \n",
      "_________________________________________________________________\n",
      "conv2d_7 (Conv2D)            (None, 28, 28, 1)         577       \n",
      "_________________________________________________________________\n",
      "activation_5 (Activation)    (None, 28, 28, 1)         0         \n",
      "=================================================================\n",
      "Total params: 1,248,641\n",
      "Trainable params: 1,248,641\n",
      "Non-trainable params: 0\n",
      "_________________________________________________________________\n"
     ]
    }
   ],
   "source": [
    "G.summary()"
   ]
  },
  {
   "cell_type": "code",
   "execution_count": 18,
   "metadata": {},
   "outputs": [],
   "source": [
    "d_real = tf.placeholder(\"float32\", (None,) + img_shape)\n",
    "d_fake = tf.placeholder(\"float32\", (None,) + img_shape)\n",
    "d_out_real = D(d_real)\n",
    "d_reg = 0.5 * lambda_reg * tf.reduce_sum(tf.pow(tf.gradients(d_out_real, d_real), 2))\n",
    "d_loss = -tf.reduce_mean(d_out_real) + tf.reduce_mean(D(d_fake)) + d_reg\n",
    "d_opt = tf.train.RMSPropOptimizer(learning_rate=0.0001).minimize(d_loss)\n",
    "\n",
    "g_input = tf.placeholder('float32', (None, latent_dim))\n",
    "g_out = G(g_input)\n",
    "g_loss = -tf.reduce_mean(D(g_out))\n",
    "g_params = tf.trainable_variables(\"generator\")\n",
    "# g_params = tf.get_collection(tf.GraphKeys.GLOBAL_VARIABLES, scope=\"generator\")\n",
    "g_opt = tf.train.RMSPropOptimizer(learning_rate=0.0001).minimize(g_loss, var_list=g_params)"
   ]
  },
  {
   "cell_type": "code",
   "execution_count": 19,
   "metadata": {},
   "outputs": [
    {
     "data": {
      "text/plain": [
       "[<tf.Variable 'generator/dense_2/kernel:0' shape=(100, 6272) dtype=float32_ref>,\n",
       " <tf.Variable 'generator/dense_2/bias:0' shape=(6272,) dtype=float32_ref>,\n",
       " <tf.Variable 'generator/conv2d_5/kernel:0' shape=(5, 5, 128, 128) dtype=float32_ref>,\n",
       " <tf.Variable 'generator/conv2d_5/bias:0' shape=(128,) dtype=float32_ref>,\n",
       " <tf.Variable 'generator/conv2d_6/kernel:0' shape=(5, 5, 128, 64) dtype=float32_ref>,\n",
       " <tf.Variable 'generator/conv2d_6/bias:0' shape=(64,) dtype=float32_ref>,\n",
       " <tf.Variable 'generator/conv2d_7/kernel:0' shape=(3, 3, 64, 1) dtype=float32_ref>,\n",
       " <tf.Variable 'generator/conv2d_7/bias:0' shape=(1,) dtype=float32_ref>]"
      ]
     },
     "execution_count": 19,
     "metadata": {},
     "output_type": "execute_result"
    }
   ],
   "source": [
    "g_params"
   ]
  },
  {
   "cell_type": "code",
   "execution_count": 20,
   "metadata": {},
   "outputs": [],
   "source": [
    "# d_params = tf.trainable_variables(\"discriminator\")\n",
    "# clip_dis_var_op = [var.assign(tf.clip_by_value(var, -0.01, 0.01)) for var in d_params]"
   ]
  },
  {
   "cell_type": "markdown",
   "metadata": {},
   "source": [
    "# Train Models"
   ]
  },
  {
   "cell_type": "code",
   "execution_count": 21,
   "metadata": {},
   "outputs": [],
   "source": [
    "nb_epochs = 100\n",
    "iter_per_epoch = 100\n",
    "dis_iter = 5\n",
    "batch_size = 128\n",
    "log_dir = \"./logs/mnist-wgan-gp\""
   ]
  },
  {
   "cell_type": "code",
   "execution_count": 22,
   "metadata": {},
   "outputs": [],
   "source": [
    "generator = batch_generator(X_train, y_train, batch_size)"
   ]
  },
  {
   "cell_type": "code",
   "execution_count": 23,
   "metadata": {},
   "outputs": [
    {
     "data": {
      "image/png": "[encoded data removed]",
      "text/plain": [
       "<Figure size 432x288 with 10 Axes>"
      ]
     },
     "metadata": {
      "needs_background": "light"
     },
     "output_type": "display_data"
    }
   ],
   "source": [
    "plot_batch(next(generator)[0][:10])"
   ]
  },
  {
   "cell_type": "code",
   "execution_count": 24,
   "metadata": {},
   "outputs": [],
   "source": [
    "sw = tf.summary.FileWriter(log_dir)\n",
    "def update_tb_summary(step):\n",
    "    s = tf.Summary()\n",
    "\n",
    "    # losses as is\n",
    "    for name, vals in [(\"D_losses\", d_print_log), (\"G_losses\", g_print_log)]:\n",
    "        v = s.value.add()\n",
    "        v.simple_value = vals[-1]\n",
    "        v.tag = name\n",
    "        \n",
    "    sw.add_summary(s, step)\n",
    "    sw.flush()\n",
    "\n",
    "def save_sample_images(step):\n",
    "    zz = np.random.normal(0., 1., (100, latent_dim))\n",
    "    generated_images = sess.run(g_out, feed_dict={g_input : zz})\n",
    "    img = np.hstack(np.hstack(generated_images.reshape((10,10) + generated_images.shape[1:])))\n",
    "    img = 0.5 * (img + 1.)\n",
    "    \n",
    "    path = os.path.join(log_dir, \"samples_%07d.png\" % step)\n",
    "    plt.imsave(path, img.squeeze(), cmap=plt.cm.gray)"
   ]
  },
  {
   "cell_type": "code",
   "execution_count": 25,
   "metadata": {},
   "outputs": [],
   "source": [
    "sess = tf.Session()\n",
    "sess.run(tf.global_variables_initializer())"
   ]
  },
  {
   "cell_type": "code",
   "execution_count": 26,
   "metadata": {},
   "outputs": [],
   "source": [
    "D_init = D.get_weights()"
   ]
  },
  {
   "cell_type": "code",
   "execution_count": 27,
   "metadata": {
    "scrolled": false
   },
   "outputs": [
    {
     "name": "stdout",
     "output_type": "stream",
     "text": [
      "Epoch 1/100\n",
      "100/100 [==============================] - 48s 482ms/step - D_loss: -0.1463 - G_loss: 0.1721\n",
      "Epoch 2/100\n",
      "100/100 [==============================] - 52s 523ms/step - D_loss: -0.1062 - G_loss: 0.6838\n",
      "Epoch 3/100\n",
      "100/100 [==============================] - 52s 524ms/step - D_loss: -0.0345 - G_loss: 0.3696\n",
      "Epoch 4/100\n",
      "100/100 [==============================] - 52s 518ms/step - D_loss: -0.0233 - G_loss: 0.2154\n",
      "Epoch 5/100\n",
      "100/100 [==============================] - 46s 465ms/step - D_loss: -0.0196 - G_loss: 0.1642\n",
      "Epoch 6/100\n",
      "100/100 [==============================] - 52s 515ms/step - D_loss: -0.0168 - G_loss: 0.1386\n",
      "Epoch 7/100\n",
      "100/100 [==============================] - 53s 525ms/step - D_loss: -0.0144 - G_loss: 0.1214\n",
      "Epoch 8/100\n",
      "100/100 [==============================] - 51s 514ms/step - D_loss: -0.0129 - G_loss: 0.1127\n",
      "Epoch 9/100\n",
      "100/100 [==============================] - 49s 488ms/step - D_loss: -0.0115 - G_loss: 0.0967\n",
      "Epoch 10/100\n",
      "100/100 [==============================] - 52s 524ms/step - D_loss: -0.0111 - G_loss: 0.0850\n",
      "Epoch 11/100\n",
      "100/100 [==============================] - 52s 519ms/step - D_loss: -0.0106 - G_loss: 0.0737\n",
      "Epoch 12/100\n",
      "100/100 [==============================] - 51s 510ms/step - D_loss: -0.0105 - G_loss: 0.0643\n",
      "Epoch 13/100\n",
      "100/100 [==============================] - 49s 494ms/step - D_loss: -0.0099 - G_loss: 0.0539\n",
      "Epoch 14/100\n",
      "100/100 [==============================] - 52s 523ms/step - D_loss: -0.0096 - G_loss: 0.0453\n",
      "Epoch 15/100\n",
      "100/100 [==============================] - 51s 515ms/step - D_loss: -0.0093 - G_loss: 0.0396\n",
      "Epoch 16/100\n",
      "100/100 [==============================] - 52s 516ms/step - D_loss: -0.0089 - G_loss: 0.0347\n",
      "Epoch 17/100\n",
      "100/100 [==============================] - 52s 518ms/step - D_loss: -0.0089 - G_loss: 0.0301\n",
      "Epoch 18/100\n",
      "100/100 [==============================] - 52s 519ms/step - D_loss: -0.0086 - G_loss: 0.0284\n",
      "Epoch 19/100\n",
      "100/100 [==============================] - 52s 517ms/step - D_loss: -0.0083 - G_loss: 0.0262\n",
      "Epoch 20/100\n",
      "100/100 [==============================] - 52s 521ms/step - D_loss: -0.0081 - G_loss: 0.0238\n",
      "Epoch 21/100\n",
      "100/100 [==============================] - 52s 518ms/step - D_loss: -0.0080 - G_loss: 0.0231\n",
      "Epoch 22/100\n",
      "100/100 [==============================] - 48s 479ms/step - D_loss: -0.0074 - G_loss: 0.0214\n",
      "Epoch 23/100\n",
      "100/100 [==============================] - 52s 518ms/step - D_loss: -0.0075 - G_loss: 0.0189\n",
      "Epoch 24/100\n",
      "100/100 [==============================] - 52s 521ms/step - D_loss: -0.0074 - G_loss: 0.0168\n",
      "Epoch 25/100\n",
      "100/100 [==============================] - 53s 528ms/step - D_loss: -0.0072 - G_loss: 0.0142\n",
      "Epoch 26/100\n",
      "100/100 [==============================] - 52s 517ms/step - D_loss: -0.0070 - G_loss: 0.0155\n",
      "Epoch 27/100\n",
      "100/100 [==============================] - 52s 519ms/step - D_loss: -0.0069 - G_loss: 0.0149\n",
      "Epoch 28/100\n",
      "100/100 [==============================] - 52s 523ms/step - D_loss: -0.0065 - G_loss: 0.0132\n",
      "Epoch 29/100\n",
      "100/100 [==============================] - 52s 522ms/step - D_loss: -0.0065 - G_loss: 0.0126\n",
      "Epoch 30/100\n",
      "100/100 [==============================] - 52s 516ms/step - D_loss: -0.0064 - G_loss: 0.0127\n",
      "Epoch 31/100\n",
      "100/100 [==============================] - 52s 517ms/step - D_loss: -0.0061 - G_loss: 0.0111\n",
      "Epoch 32/100\n",
      "100/100 [==============================] - 52s 517ms/step - D_loss: -0.0060 - G_loss: 0.0102\n",
      "Epoch 33/100\n",
      "100/100 [==============================] - 52s 517ms/step - D_loss: -0.0058 - G_loss: 0.0097\n",
      "Epoch 34/100\n",
      "100/100 [==============================] - 52s 516ms/step - D_loss: -0.0058 - G_loss: 0.0095\n",
      "Epoch 35/100\n",
      "100/100 [==============================] - 52s 521ms/step - D_loss: -0.0056 - G_loss: 0.0082\n",
      "Epoch 36/100\n",
      "100/100 [==============================] - 51s 514ms/step - D_loss: -0.0055 - G_loss: 0.0088\n",
      "Epoch 37/100\n",
      "100/100 [==============================] - 52s 516ms/step - D_loss: -0.0054 - G_loss: 0.0090\n",
      "Epoch 38/100\n",
      "100/100 [==============================] - 51s 513ms/step - D_loss: -0.0052 - G_loss: 0.0086\n",
      "Epoch 39/100\n",
      "100/100 [==============================] - 51s 512ms/step - D_loss: -0.0051 - G_loss: 0.0079\n",
      "Epoch 40/100\n",
      "100/100 [==============================] - 51s 515ms/step - D_loss: -0.0051 - G_loss: 0.0077\n",
      "Epoch 41/100\n",
      "100/100 [==============================] - 52s 523ms/step - D_loss: -0.0051 - G_loss: 0.0073\n",
      "Epoch 42/100\n",
      "100/100 [==============================] - 52s 517ms/step - D_loss: -0.0049 - G_loss: 0.0079\n",
      "Epoch 43/100\n",
      "100/100 [==============================] - 51s 513ms/step - D_loss: -0.0048 - G_loss: 0.0079\n",
      "Epoch 44/100\n",
      "100/100 [==============================] - 52s 516ms/step - D_loss: -0.0049 - G_loss: 0.0076\n",
      "Epoch 45/100\n",
      "100/100 [==============================] - 52s 517ms/step - D_loss: -0.0046 - G_loss: 0.0074\n",
      "Epoch 46/100\n",
      "100/100 [==============================] - 52s 518ms/step - D_loss: -0.0044 - G_loss: 0.0075\n",
      "Epoch 47/100\n",
      "100/100 [==============================] - 52s 522ms/step - D_loss: -0.0044 - G_loss: 0.0067\n",
      "Epoch 48/100\n",
      "100/100 [==============================] - 52s 518ms/step - D_loss: -0.0045 - G_loss: 0.0074\n",
      "Epoch 49/100\n",
      "100/100 [==============================] - 52s 516ms/step - D_loss: -0.0043 - G_loss: 0.0074\n",
      "Epoch 50/100\n",
      "100/100 [==============================] - 51s 515ms/step - D_loss: -0.0043 - G_loss: 0.0074\n",
      "Epoch 51/100\n",
      "100/100 [==============================] - 53s 534ms/step - D_loss: -0.0043 - G_loss: 0.0079\n",
      "Epoch 52/100\n",
      "100/100 [==============================] - 52s 518ms/step - D_loss: -0.0043 - G_loss: 0.0073\n",
      "Epoch 53/100\n",
      "100/100 [==============================] - 52s 516ms/step - D_loss: -0.0042 - G_loss: 0.0069\n",
      "Epoch 54/100\n",
      "100/100 [==============================] - 51s 514ms/step - D_loss: -0.0041 - G_loss: 0.0066\n",
      "Epoch 55/100\n",
      "100/100 [==============================] - 51s 514ms/step - D_loss: -0.0042 - G_loss: 0.0061\n",
      "Epoch 56/100\n",
      "100/100 [==============================] - 51s 514ms/step - D_loss: -0.0042 - G_loss: 0.0062\n",
      "Epoch 57/100\n",
      "100/100 [==============================] - 51s 515ms/step - D_loss: -0.0041 - G_loss: 0.0065\n",
      "Epoch 58/100\n",
      "100/100 [==============================] - 51s 514ms/step - D_loss: -0.0041 - G_loss: 0.0076\n",
      "Epoch 59/100\n",
      "100/100 [==============================] - 52s 519ms/step - D_loss: -0.0039 - G_loss: 0.0080\n",
      "Epoch 60/100\n",
      "100/100 [==============================] - 51s 508ms/step - D_loss: -0.0040 - G_loss: 0.0074\n",
      "Epoch 61/100\n",
      "100/100 [==============================] - 51s 508ms/step - D_loss: -0.0038 - G_loss: 0.0072\n",
      "Epoch 62/100\n",
      "100/100 [==============================] - 51s 508ms/step - D_loss: -0.0038 - G_loss: 0.0069\n",
      "Epoch 63/100\n",
      "100/100 [==============================] - 51s 510ms/step - D_loss: -0.0037 - G_loss: 0.0081\n",
      "Epoch 64/100\n",
      "100/100 [==============================] - 51s 510ms/step - D_loss: -0.0037 - G_loss: 0.0076\n",
      "Epoch 65/100\n",
      "100/100 [==============================] - 51s 508ms/step - D_loss: -0.0037 - G_loss: 0.0071\n",
      "Epoch 66/100\n",
      "100/100 [==============================] - 51s 505ms/step - D_loss: -0.0036 - G_loss: 0.0071\n",
      "Epoch 67/100\n",
      "100/100 [==============================] - 49s 493ms/step - D_loss: -0.0038 - G_loss: 0.0076\n",
      "Epoch 68/100\n",
      "100/100 [==============================] - 51s 508ms/step - D_loss: -0.0037 - G_loss: 0.0068\n",
      "Epoch 69/100\n",
      "100/100 [==============================] - 51s 509ms/step - D_loss: -0.0037 - G_loss: 0.0068\n",
      "Epoch 70/100\n",
      "100/100 [==============================] - 51s 510ms/step - D_loss: -0.0035 - G_loss: 0.0078\n",
      "Epoch 71/100\n",
      "100/100 [==============================] - 51s 508ms/step - D_loss: -0.0035 - G_loss: 0.0079\n",
      "Epoch 72/100\n",
      "100/100 [==============================] - 49s 493ms/step - D_loss: -0.0035 - G_loss: 0.0076\n",
      "Epoch 73/100\n",
      "100/100 [==============================] - 51s 508ms/step - D_loss: -0.0035 - G_loss: 0.0077\n",
      "Epoch 74/100\n",
      "100/100 [==============================] - 51s 510ms/step - D_loss: -0.0035 - G_loss: 0.0080\n",
      "Epoch 75/100\n",
      "100/100 [==============================] - 51s 508ms/step - D_loss: -0.0035 - G_loss: 0.0079\n",
      "Epoch 76/100\n",
      "100/100 [==============================] - 51s 507ms/step - D_loss: -0.0034 - G_loss: 0.0086\n",
      "Epoch 77/100\n",
      "100/100 [==============================] - 51s 510ms/step - D_loss: -0.0034 - G_loss: 0.0085\n",
      "Epoch 78/100\n"
     ]
    },
    {
     "name": "stdout",
     "output_type": "stream",
     "text": [
      "100/100 [==============================] - 50s 501ms/step - D_loss: -0.0033 - G_loss: 0.0079\n",
      "Epoch 79/100\n",
      "100/100 [==============================] - 50s 502ms/step - D_loss: -0.0035 - G_loss: 0.0071\n",
      "Epoch 80/100\n",
      "100/100 [==============================] - 50s 503ms/step - D_loss: -0.0032 - G_loss: 0.0081\n",
      "Epoch 81/100\n",
      "100/100 [==============================] - 50s 505ms/step - D_loss: -0.0034 - G_loss: 0.0074\n",
      "Epoch 82/100\n",
      "100/100 [==============================] - 50s 503ms/step - D_loss: -0.0033 - G_loss: 0.0074\n",
      "Epoch 83/100\n",
      "100/100 [==============================] - 49s 494ms/step - D_loss: -0.0032 - G_loss: 0.0076\n",
      "Epoch 84/100\n",
      "100/100 [==============================] - 44s 442ms/step - D_loss: -0.0032 - G_loss: 0.0094\n",
      "Epoch 85/100\n",
      "100/100 [==============================] - 47s 467ms/step - D_loss: -0.0032 - G_loss: 0.0086\n",
      "Epoch 86/100\n",
      "100/100 [==============================] - 51s 505ms/step - D_loss: -0.0032 - G_loss: 0.0084\n",
      "Epoch 87/100\n",
      "100/100 [==============================] - 50s 504ms/step - D_loss: -0.0032 - G_loss: 0.0090\n",
      "Epoch 88/100\n",
      "100/100 [==============================] - 48s 475ms/step - D_loss: -0.0031 - G_loss: 0.0079\n",
      "Epoch 89/100\n",
      "100/100 [==============================] - 51s 507ms/step - D_loss: -0.0031 - G_loss: 0.0080\n",
      "Epoch 90/100\n",
      "100/100 [==============================] - 50s 503ms/step - D_loss: -0.0031 - G_loss: 0.0077\n",
      "Epoch 91/100\n",
      "100/100 [==============================] - 51s 505ms/step - D_loss: -0.0031 - G_loss: 0.0079\n",
      "Epoch 92/100\n",
      "100/100 [==============================] - 50s 500ms/step - D_loss: -0.0031 - G_loss: 0.0081\n",
      "Epoch 93/100\n",
      "100/100 [==============================] - 50s 504ms/step - D_loss: -0.0030 - G_loss: 0.0079\n",
      "Epoch 94/100\n",
      "100/100 [==============================] - 50s 501ms/step - D_loss: -0.0030 - G_loss: 0.0085\n",
      "Epoch 95/100\n",
      "100/100 [==============================] - 50s 495ms/step - D_loss: -0.0030 - G_loss: 0.0080\n",
      "Epoch 96/100\n",
      "100/100 [==============================] - 48s 477ms/step - D_loss: -0.0030 - G_loss: 0.0087\n",
      "Epoch 97/100\n",
      "100/100 [==============================] - 51s 506ms/step - D_loss: -0.0030 - G_loss: 0.0090\n",
      "Epoch 98/100\n",
      "100/100 [==============================] - 51s 505ms/step - D_loss: -0.0030 - G_loss: 0.0092\n",
      "Epoch 99/100\n",
      "100/100 [==============================] - 51s 508ms/step - D_loss: -0.0030 - G_loss: 0.0091\n",
      "Epoch 100/100\n",
      "100/100 [==============================] - 50s 499ms/step - D_loss: -0.0029 - G_loss: 0.0089\n"
     ]
    }
   ],
   "source": [
    "d_print_log = []\n",
    "g_print_log = []\n",
    "\n",
    "for e in range(nb_epochs):\n",
    "    print(\"Epoch {}/{}\".format(e + 1, nb_epochs))\n",
    "    progbar = Progbar(iter_per_epoch)\n",
    "    \n",
    "    for it in range(iter_per_epoch):\n",
    "        for i in range(dis_iter):\n",
    "            \n",
    "#             for l in D.layers:\n",
    "#                 weights = l.get_weights()\n",
    "#                 weights = [np.clip(w, -0.01, 0.01) for w in weights]\n",
    "#                 l.set_weights(weights)\n",
    "                \n",
    "            batch_zz = np.random.normal(0., 1., (batch_size, latent_dim))\n",
    "            batch_real, _ = next(generator)\n",
    "            batch_fake = sess.run(g_out, feed_dict={g_input : batch_zz})\n",
    "            \n",
    "#             sess.run(clip_dis_var_op)\n",
    "            sess.run(d_opt, feed_dict={d_real : batch_real, d_fake : batch_fake})\n",
    "            \n",
    "        d_print_log.append(sess.run(d_loss, feed_dict={d_real : batch_real, d_fake : batch_fake}))\n",
    "        \n",
    "        batch_zz = np.random.normal(0., 1., (batch_size, latent_dim))\n",
    "        sess.run(g_opt, feed_dict={g_input : batch_zz})\n",
    "        g_print_log.append(sess.run(g_loss, feed_dict={g_input : batch_zz}))\n",
    "        \n",
    "        progbar.update(it + 1, values=[(\"D_loss\", d_print_log[-1]), (\"G_loss\", g_print_log[-1])])\n",
    "    \n",
    "    step = iter_per_epoch * (e + 1)\n",
    "    update_tb_summary(step)\n",
    "    save_sample_images(step)"
   ]
  },
  {
   "cell_type": "code",
   "execution_count": null,
   "metadata": {},
   "outputs": [],
   "source": []
  }
 ],
 "metadata": {
  "kernelspec": {
   "display_name": "Python 3",
   "language": "python",
   "name": "python3"
  },
  "language_info": {
   "codemirror_mode": {
    "name": "ipython",
    "version": 3
   },
   "file_extension": ".py",
   "mimetype": "text/x-python",
   "name": "python",
   "nbconvert_exporter": "python",
   "pygments_lexer": "ipython3",
   "version": "3.5.6"
  }
 },
 "nbformat": 4,
 "nbformat_minor": 2
}
